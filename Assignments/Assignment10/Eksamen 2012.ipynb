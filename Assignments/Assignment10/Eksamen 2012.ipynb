{
 "cells": [
  {
   "cell_type": "markdown",
   "metadata": {
    "deletable": false,
    "editable": false,
    "run_control": {
     "frozen": true
    }
   },
   "source": [
    " <nav class=\"navbar navbar-default\">\n",
    "  <div class=\"container-fluid\">\n",
    "    <div class=\"navbar-header\">\n",
    "      <a class=\"navbar-brand\" href=\"_Oving10.ipynb\">Øving 10</a>\n",
    "    </div>\n",
    "    <ul class=\"nav navbar-nav\">\n",
    "    <li ><a href=\"Rekursjon.ipynb\">Rekursjon (Obligatorisk TDT4109)</a></li>\n",
    "    <li ><a href=\"Matplotlib.ipynb\">Matplotlib (Obligatorisk TDT4110)</a></li>\n",
    "    <li class=\"active\"><a href=\"Eksamen%202012.ipynb\">Eksamen Python 2012</a></li>\n",
    "    <li ><a href=\"Sudoku.ipynb\">Sudoku</a></li>\n",
    "    <li ><a href=\"numpy-arrays%20og%20matplotlib.ipynb\">Numpy-arrays og matplotlib (TDT4110)</a></li>\n",
    "    <li ><a href=\"Bokanalyse%20med%20plotting.ipynb\">Bokanalyse med plotting (TDT4110)</a></li>\n",
    "    <li ><a href=\"Sjakk.ipynb\">Sjakk</a></li>\n",
    "    </ul>\n",
    "  </div>\n",
    "</nav>\n",
    "\n",
    "\n",
    "# Eksamen 2012"
   ]
  },
  {
   "cell_type": "markdown",
   "metadata": {
    "deletable": false,
    "editable": false,
    "hide_input": true,
    "run_control": {
     "frozen": true
    }
   },
   "source": [
    "## Oppgave 1 - Teori (25%)"
   ]
  },
  {
   "cell_type": "markdown",
   "metadata": {
    "deletable": false,
    "editable": false,
    "run_control": {
     "frozen": true
    }
   },
   "source": [
    "Noen av flervalgsoppgavene som ikke var pensum er fjernet. For å få opp alle flervalgsoppgavene, `trykk på denne boksen, pil ned, og så ctrl + enter`. Merk at dersom du gjør dette igjen etter å startet en besvarelse vil besvarelsen din forsvinne. Dette gjelder kun flervalgsoppgaven. Trykk `Widgets->Save Notebook Widget State` for å lagre flervalgsoppgavene.  Du kan trykke `Cell->All Output->Toggle Scrolling` for å få alle oppgavene i et stort vindu."
   ]
  },
  {
   "cell_type": "code",
   "execution_count": 1,
   "metadata": {
    "hide_input": true,
    "scrolled": true
   },
   "outputs": [
    {
     "name": "stdout",
     "output_type": "stream",
     "text": [
      "\u001b[1m 1)Hva kjennetegner komprimeringsalgoritmer som er tapsløs (lossless)? \u001b[0m\n"
     ]
    },
    {
     "data": {
      "application/vnd.jupyter.widget-view+json": {
       "model_id": "551e9d19a9984207b0d54ae94398f8ca",
       "version_major": 2,
       "version_minor": 0
      },
      "text/plain": [
       "RadioButtons(layout=Layout(width='1500px'), options=('a)Den opprinnelige datamengden kan gjenskapes nøyaktig.'…"
      ]
     },
     "metadata": {},
     "output_type": "display_data"
    },
    {
     "data": {
      "application/vnd.jupyter.widget-view+json": {
       "model_id": "1c8b5ef775d74d9ba1b4c4760b3eb84a",
       "version_major": 2,
       "version_minor": 0
      },
      "text/plain": [
       "Output()"
      ]
     },
     "metadata": {},
     "output_type": "display_data"
    },
    {
     "name": "stdout",
     "output_type": "stream",
     "text": [
      "\u001b[1m 2)Hva sier Nyquist-regelen om samplingsfrekvensen? \u001b[0m\n"
     ]
    },
    {
     "data": {
      "application/vnd.jupyter.widget-view+json": {
       "model_id": "92adcfc28cc34df3bf478f45bbf54cad",
       "version_major": 2,
       "version_minor": 0
      },
      "text/plain": [
       "RadioButtons(layout=Layout(width='1500px'), options=('a)Samplingsfrekvensen må være minst halvparten av den hø…"
      ]
     },
     "metadata": {},
     "output_type": "display_data"
    },
    {
     "data": {
      "application/vnd.jupyter.widget-view+json": {
       "model_id": "90343cf5d44b48638ef19eb3933dd2d5",
       "version_major": 2,
       "version_minor": 0
      },
      "text/plain": [
       "Output()"
      ]
     },
     "metadata": {},
     "output_type": "display_data"
    },
    {
     "name": "stdout",
     "output_type": "stream",
     "text": [
      "\u001b[1m 3)Hva er oppgaven til en programteller (program counter): \u001b[0m\n"
     ]
    },
    {
     "data": {
      "application/vnd.jupyter.widget-view+json": {
       "model_id": "c54e137060e54660b227735bf201071d",
       "version_major": 2,
       "version_minor": 0
      },
      "text/plain": [
       "RadioButtons(layout=Layout(width='1500px'), options=('a)Den holder rede på antall kodelinjer i et program.', '…"
      ]
     },
     "metadata": {},
     "output_type": "display_data"
    },
    {
     "data": {
      "application/vnd.jupyter.widget-view+json": {
       "model_id": "c599268ef60f4bf8b49000bd12686be3",
       "version_major": 2,
       "version_minor": 0
      },
      "text/plain": [
       "Output()"
      ]
     },
     "metadata": {},
     "output_type": "display_data"
    },
    {
     "name": "stdout",
     "output_type": "stream",
     "text": [
      "\u001b[1m 4)Hvor mange symboler kan kodes med 10 bit? \u001b[0m\n"
     ]
    },
    {
     "data": {
      "application/vnd.jupyter.widget-view+json": {
       "model_id": "fb385af0dfea42df98e92ceae457dad3",
       "version_major": 2,
       "version_minor": 0
      },
      "text/plain": [
       "RadioButtons(layout=Layout(width='1500px'), options=('a)10.', 'b)512.', 'c)1024.', 'd)Ingen.\\n'), value='a)10.…"
      ]
     },
     "metadata": {},
     "output_type": "display_data"
    },
    {
     "data": {
      "application/vnd.jupyter.widget-view+json": {
       "model_id": "ebd6ced4f9d3489083699a25187c0cd3",
       "version_major": 2,
       "version_minor": 0
      },
      "text/plain": [
       "Output()"
      ]
     },
     "metadata": {},
     "output_type": "display_data"
    },
    {
     "name": "stdout",
     "output_type": "stream",
     "text": [
      "\u001b[1m 6)Hvorfor digitalisere nettverk? \u001b[0m\n"
     ]
    },
    {
     "data": {
      "application/vnd.jupyter.widget-view+json": {
       "model_id": "8b1dbc57bc99439a83635852fbedc81a",
       "version_major": 2,
       "version_minor": 0
      },
      "text/plain": [
       "RadioButtons(layout=Layout(width='1500px'), options=('a)Ønske om å kombinere tjenester.', 'b)Enklere å utnytte…"
      ]
     },
     "metadata": {},
     "output_type": "display_data"
    },
    {
     "data": {
      "application/vnd.jupyter.widget-view+json": {
       "model_id": "43864bf3d6654cf1828fbb0d77f58eff",
       "version_major": 2,
       "version_minor": 0
      },
      "text/plain": [
       "Output()"
      ]
     },
     "metadata": {},
     "output_type": "display_data"
    },
    {
     "name": "stdout",
     "output_type": "stream",
     "text": [
      "\u001b[1m 7)Hva er et Denial of Service–angrep? \u001b[0m\n"
     ]
    },
    {
     "data": {
      "application/vnd.jupyter.widget-view+json": {
       "model_id": "1d62e8df8b554fbfbe97354af9f552f2",
       "version_major": 2,
       "version_minor": 0
      },
      "text/plain": [
       "RadioButtons(layout=Layout(width='1500px'), options=('a)Å sende så mange forespørsler til en tjener (server) a…"
      ]
     },
     "metadata": {},
     "output_type": "display_data"
    },
    {
     "data": {
      "application/vnd.jupyter.widget-view+json": {
       "model_id": "c63cf5d4f36a4cc699c49121ef1f3e15",
       "version_major": 2,
       "version_minor": 0
      },
      "text/plain": [
       "Output()"
      ]
     },
     "metadata": {},
     "output_type": "display_data"
    },
    {
     "name": "stdout",
     "output_type": "stream",
     "text": [
      "\u001b[1m 8)Hva vil det si at vi at vi har “random access” (tilfeldig tilgang) til minnet? \u001b[0m\n"
     ]
    },
    {
     "data": {
      "application/vnd.jupyter.widget-view+json": {
       "model_id": "042e77abd42d42ed85fd80fddea75659",
       "version_major": 2,
       "version_minor": 0
      },
      "text/plain": [
       "RadioButtons(layout=Layout(width='1500px'), options=('a)Alldatai minnet kan hentes direkteuansett hvor det bef…"
      ]
     },
     "metadata": {},
     "output_type": "display_data"
    },
    {
     "data": {
      "application/vnd.jupyter.widget-view+json": {
       "model_id": "4769881e4bc94a4485a4ad6554fe46f5",
       "version_major": 2,
       "version_minor": 0
      },
      "text/plain": [
       "Output()"
      ]
     },
     "metadata": {},
     "output_type": "display_data"
    },
    {
     "name": "stdout",
     "output_type": "stream",
     "text": [
      "\u001b[1m 9)Hva vil det si at en datamaskin er deterministisk? \u001b[0m\n"
     ]
    },
    {
     "data": {
      "application/vnd.jupyter.widget-view+json": {
       "model_id": "f4b8da3cf0564a5f809c2107f0099861",
       "version_major": 2,
       "version_minor": 0
      },
      "text/plain": [
       "RadioButtons(layout=Layout(width='1500px'), options=('a)Den har en pessimistisk livsanskuelse som avviser fri …"
      ]
     },
     "metadata": {},
     "output_type": "display_data"
    },
    {
     "data": {
      "application/vnd.jupyter.widget-view+json": {
       "model_id": "a40c509126a84a6d822091e369b76833",
       "version_major": 2,
       "version_minor": 0
      },
      "text/plain": [
       "Output()"
      ]
     },
     "metadata": {},
     "output_type": "display_data"
    },
    {
     "name": "stdout",
     "output_type": "stream",
     "text": [
      "\u001b[1m 10)Hvilke av alternativene under er mulige tolkninger av PandA-mønstre? \u001b[0m\n"
     ]
    },
    {
     "data": {
      "application/vnd.jupyter.widget-view+json": {
       "model_id": "55f47456f9c64057afef78c169783bd6",
       "version_major": 2,
       "version_minor": 0
      },
      "text/plain": [
       "RadioButtons(layout=Layout(width='1500px'), options=('a)True og False.', 'b)Ja og Nei.', 'c)+ og –.', 'd)Alle …"
      ]
     },
     "metadata": {},
     "output_type": "display_data"
    },
    {
     "data": {
      "application/vnd.jupyter.widget-view+json": {
       "model_id": "448e3fe9c925433b8e16c4ec8a67eaa0",
       "version_major": 2,
       "version_minor": 0
      },
      "text/plain": [
       "Output()"
      ]
     },
     "metadata": {},
     "output_type": "display_data"
    },
    {
     "name": "stdout",
     "output_type": "stream",
     "text": [
      "\u001b[1m 11)Når vi studerer algoritmers effektivitet, ser vi på hvordan kjøretiden utvikler seg i forhold til mengden av input.  Vi gjør analyser av bestefall, verstefall og gjennomsnittstilfellet.  Hvorfor er det spesielt interessant å analysere en algoritmes kjøretid i verste fall? \u001b[0m\n"
     ]
    },
    {
     "data": {
      "application/vnd.jupyter.widget-view+json": {
       "model_id": "f88f5ca65a43450dad1272cf93cd6eae",
       "version_major": 2,
       "version_minor": 0
      },
      "text/plain": [
       "RadioButtons(layout=Layout(width='1500px'), options=('a)Det setter en øvre grense for hvor lang tid det tar å …"
      ]
     },
     "metadata": {},
     "output_type": "display_data"
    },
    {
     "data": {
      "application/vnd.jupyter.widget-view+json": {
       "model_id": "ee93140fe6a04affb22e308db4119b4e",
       "version_major": 2,
       "version_minor": 0
      },
      "text/plain": [
       "Output()"
      ]
     },
     "metadata": {},
     "output_type": "display_data"
    },
    {
     "name": "stdout",
     "output_type": "stream",
     "text": [
      "\u001b[1m 12)Vi deler inn algoritmer i klasser basert på de funksjoner som beskriver deres utvikling i kjøretid best. Hvilken algoritme er i klassen Θ(log(n)): \u001b[0m\n"
     ]
    },
    {
     "data": {
      "application/vnd.jupyter.widget-view+json": {
       "model_id": "9915bbf6784b4b688c64387a116271af",
       "version_major": 2,
       "version_minor": 0
      },
      "text/plain": [
       "RadioButtons(layout=Layout(width='1500px'), options=('a)Innstikksortering (Insertion sort).', 'b)Binærsøk (bin…"
      ]
     },
     "metadata": {},
     "output_type": "display_data"
    },
    {
     "data": {
      "application/vnd.jupyter.widget-view+json": {
       "model_id": "02ff9dcda34b42258cdd5f3374c6382a",
       "version_major": 2,
       "version_minor": 0
      },
      "text/plain": [
       "Output()"
      ]
     },
     "metadata": {},
     "output_type": "display_data"
    },
    {
     "name": "stdout",
     "output_type": "stream",
     "text": [
      "\u001b[1m 13)Hva er et datagram? \u001b[0m\n"
     ]
    },
    {
     "data": {
      "application/vnd.jupyter.widget-view+json": {
       "model_id": "6eda2df984454ae7b9671be66780bff5",
       "version_major": 2,
       "version_minor": 0
      },
      "text/plain": [
       "RadioButtons(layout=Layout(width='1500px'), options=('a)Et telegram som er skrevet på data.', 'b)Vekten på en …"
      ]
     },
     "metadata": {},
     "output_type": "display_data"
    },
    {
     "data": {
      "application/vnd.jupyter.widget-view+json": {
       "model_id": "ec2e9742291a4af390da152acfb4b9e7",
       "version_major": 2,
       "version_minor": 0
      },
      "text/plain": [
       "Output()"
      ]
     },
     "metadata": {},
     "output_type": "display_data"
    },
    {
     "name": "stdout",
     "output_type": "stream",
     "text": [
      "\u001b[1m 14)Fargene som vises på en dataskjerm representeres oftemed 24 bits RGB-koding. Fargen blå vil da representeres som: \u001b[0m\n"
     ]
    },
    {
     "data": {
      "application/vnd.jupyter.widget-view+json": {
       "model_id": "6ab1173f54414e089f462234c43c64c0",
       "version_major": 2,
       "version_minor": 0
      },
      "text/plain": [
       "RadioButtons(layout=Layout(width='1500px'), options=('a)0000 0000 0000 0000 0000 0000.', 'b)1111 1111 0000 000…"
      ]
     },
     "metadata": {},
     "output_type": "display_data"
    },
    {
     "data": {
      "application/vnd.jupyter.widget-view+json": {
       "model_id": "4512ece6744a4a6dad14c9e83fb6dbea",
       "version_major": 2,
       "version_minor": 0
      },
      "text/plain": [
       "Output()"
      ]
     },
     "metadata": {},
     "output_type": "display_data"
    },
    {
     "name": "stdout",
     "output_type": "stream",
     "text": [
      "\u001b[1m 15)Når vi overfører data over internett oppstår det ofte feil på grunn av forstyrrelser på linjene. For å oppdage slike feil brukes ofte  \u001b[0m\n"
     ]
    },
    {
     "data": {
      "application/vnd.jupyter.widget-view+json": {
       "model_id": "421c1530f26847bb9ef31f295fc65e8a",
       "version_major": 2,
       "version_minor": 0
      },
      "text/plain": [
       "RadioButtons(layout=Layout(width='1500px'), options=('a)NIC (Network Interface Card).', 'b)ISP (Internet Servi…"
      ]
     },
     "metadata": {},
     "output_type": "display_data"
    },
    {
     "data": {
      "application/vnd.jupyter.widget-view+json": {
       "model_id": "51baf05bf53a465bbf9596447d244ce8",
       "version_major": 2,
       "version_minor": 0
      },
      "text/plain": [
       "Output()"
      ]
     },
     "metadata": {},
     "output_type": "display_data"
    },
    {
     "name": "stdout",
     "output_type": "stream",
     "text": [
      "\u001b[1m 16)En mikroprosessor utfører de samme femoppgavene om og om igjen. Hvilken rekkefølge av stegeneunder beskriver korrektrekkefølge på dette F/E-kretsløpet (F/E cycle)? \u001b[0m\n"
     ]
    },
    {
     "data": {
      "application/vnd.jupyter.widget-view+json": {
       "model_id": "a14c64c0e1f84d1fadebe6b392dd82af",
       "version_major": 2,
       "version_minor": 0
      },
      "text/plain": [
       "RadioButtons(layout=Layout(width='1500px'), options=('a)Information Fetch –Data Fetch –Instruction Decode –Ins…"
      ]
     },
     "metadata": {},
     "output_type": "display_data"
    },
    {
     "data": {
      "application/vnd.jupyter.widget-view+json": {
       "model_id": "e758ddfac7624bb1a76786f6f7747b33",
       "version_major": 2,
       "version_minor": 0
      },
      "text/plain": [
       "Output()"
      ]
     },
     "metadata": {},
     "output_type": "display_data"
    },
    {
     "name": "stdout",
     "output_type": "stream",
     "text": [
      "\u001b[1m 18)Hva er DAC? \u001b[0m\n"
     ]
    },
    {
     "data": {
      "application/vnd.jupyter.widget-view+json": {
       "model_id": "5747738631d04f50ac072b54e20fe7e6",
       "version_major": 2,
       "version_minor": 0
      },
      "text/plain": [
       "RadioButtons(layout=Layout(width='1500px'), options=('a)Et program som hjelper med beregninger (data-assisted …"
      ]
     },
     "metadata": {},
     "output_type": "display_data"
    },
    {
     "data": {
      "application/vnd.jupyter.widget-view+json": {
       "model_id": "12f982ed79674ce79fc60787796e9e5e",
       "version_major": 2,
       "version_minor": 0
      },
      "text/plain": [
       "Output()"
      ]
     },
     "metadata": {},
     "output_type": "display_data"
    },
    {
     "name": "stdout",
     "output_type": "stream",
     "text": [
      "\u001b[1m 19)Rekursjon betyr at  \u001b[0m\n"
     ]
    },
    {
     "data": {
      "application/vnd.jupyter.widget-view+json": {
       "model_id": "d670d80757cf4a15a081b68333d8d30e",
       "version_major": 2,
       "version_minor": 0
      },
      "text/plain": [
       "RadioButtons(layout=Layout(width='1500px'), options=('a)En funksjon kaller seg selv.', 'b)Kjøretiden til progr…"
      ]
     },
     "metadata": {},
     "output_type": "display_data"
    },
    {
     "data": {
      "application/vnd.jupyter.widget-view+json": {
       "model_id": "f1560e9df58b4c79ac39e64bf7297b6a",
       "version_major": 2,
       "version_minor": 0
      },
      "text/plain": [
       "Output()"
      ]
     },
     "metadata": {},
     "output_type": "display_data"
    },
    {
     "name": "stdout",
     "output_type": "stream",
     "text": [
      "\u001b[1m 20)Ranger effektivitetsklassene Θ(n3), Θ(n), Θ(log(n))og Θ(n2) etter effektivitet, der minst effektiv først og deretter mer og mer effektiv  \u001b[0m\n"
     ]
    },
    {
     "data": {
      "application/vnd.jupyter.widget-view+json": {
       "model_id": "4fb81afe87da40699c39010bdfed9ebb",
       "version_major": 2,
       "version_minor": 0
      },
      "text/plain": [
       "RadioButtons(layout=Layout(width='1500px'), options=('a)Θ(n3), Θ(n2), Θ(n), Θ(log(n)).', 'b)Θ(n3), Θ(n), Θ(n2)…"
      ]
     },
     "metadata": {},
     "output_type": "display_data"
    },
    {
     "data": {
      "application/vnd.jupyter.widget-view+json": {
       "model_id": "1e45b9b21e1147719b7b79968d9a6498",
       "version_major": 2,
       "version_minor": 0
      },
      "text/plain": [
       "Output()"
      ]
     },
     "metadata": {},
     "output_type": "display_data"
    }
   ],
   "source": [
    "import os\n",
    "import sys\n",
    "module_path = os.path.abspath(os.path.join('../..'))\n",
    "if module_path not in sys.path:\n",
    "    sys.path.append(module_path)\n",
    "    \n",
    "from Resources.mc_generator import *\n",
    "\n",
    "generate_multiple_no_answer('eksamen2012teori.txt')"
   ]
  },
  {
   "cell_type": "markdown",
   "metadata": {
    "deletable": false,
    "editable": false,
    "run_control": {
     "frozen": true
    }
   },
   "source": [
    "## Oppgave 2 -  Grunnleggende programmering (20%)"
   ]
  },
  {
   "cell_type": "markdown",
   "metadata": {
    "deletable": false,
    "editable": false,
    "run_control": {
     "frozen": true
    }
   },
   "source": [
    "***I denne versjonen har vi fjernet fjervalgsoppgavene som til vanlig teller 25% av eksamen. Topp prosentscore er da altså 75%.***\n",
    "\n",
    "Du kan anta at alle fuksjonene mottar gyldige input-verdier."
   ]
  },
  {
   "cell_type": "markdown",
   "metadata": {
    "deletable": false,
    "editable": false,
    "run_control": {
     "frozen": true
    }
   },
   "source": [
    "### Oppgave 2 a) (5%)"
   ]
  },
  {
   "cell_type": "markdown",
   "metadata": {
    "deletable": false,
    "editable": false,
    "run_control": {
     "frozen": true
    }
   },
   "source": [
    "Lag funksjonen **summerOlympics** som har inn-parametere **firstYear** og **lastYear**. Funksjonen skal returnere variabelen **years**,som er ei list emed alle OL-årene fra og med **firstYear** til og med **lastYear** (inkludert framtidige planlagte år for sommer-OL). Fra og med OL i London i 1948,har sommer-OL vært arrangert hvert fjerde år. Du kan anta at **firstYear** ≥ 1948.\n",
    "\n",
    "Eksempel på kjøring av funksjonen og hva den returnerer:\n",
    "\n",
    "```python\n",
    ">>>years = summerOlympics(1999,2012)\n",
    ">>> years\n",
    "[2000, 2004, 2008, 2012]\n",
    ">>>```"
   ]
  },
  {
   "cell_type": "code",
   "execution_count": 3,
   "metadata": {
    "scrolled": false
   },
   "outputs": [
    {
     "data": {
      "text/plain": [
       "[2000, 2004, 2008, 2012]"
      ]
     },
     "execution_count": 3,
     "metadata": {},
     "output_type": "execute_result"
    }
   ],
   "source": [
    "def summerOlympics(firstYear,lastYear):\n",
    "    years=[]\n",
    "    if firstYear<1948:\n",
    "        print(\"Invalid value, please try again!\")\n",
    "    else:\n",
    "        for i in range(firstYear,lastYear+1):\n",
    "            if (i-1948)%4==0:\n",
    "                years.append(i)\n",
    "    return years\n",
    "\n",
    "summerOlympics(1999,2012)\n",
    "        "
   ]
  },
  {
   "cell_type": "markdown",
   "metadata": {
    "deletable": false,
    "editable": false,
    "run_control": {
     "frozen": true
    }
   },
   "source": [
    "### Oppgave 2b) (7.5%)"
   ]
  },
  {
   "cell_type": "markdown",
   "metadata": {
    "deletable": false,
    "editable": false,
    "run_control": {
     "frozen": true
    }
   },
   "source": [
    "Lag funksjonen **`findAge`** som har inn-parametere **bYear**, **bMonth**, **bDay** som er tre heltall som beskriver dato for en fødselsdag. Funksjonen skal returnere **age** som beskriver hvor gammel en person med oppgitt fødselsdag (**bYear**, **bMonth** og **bDay**) er i dag angitt i hele år.\n",
    "\n",
    "For å finne år, måned og dag for i dag ***skal du bruke*** en eksisterende funksjon som heter `current_date()`.Funksjonen returnerer tre heltall på formatet **(yyyy,mm,dd)**. \n",
    "\n",
    "Eksempel på bruk av funksjonen **current_date**:  \n",
    "`(yyyy,mm,dd)= current_date()` gir i dag yyyy=2012,mm=12, dd=11.\n",
    "\n",
    "Eksempel på kjøring av funksjonen **`findAge`** og hva den returnerer:\n",
    "\n",
    "```python\n",
    ">>> age = findAge(2000,12,15)\n",
    ">>> age\n",
    "11\n",
    ">>>\n",
    "```"
   ]
  },
  {
   "cell_type": "code",
   "execution_count": 10,
   "metadata": {
    "ExecuteTime": {
     "end_time": "2019-07-05T10:58:13.647340Z",
     "start_time": "2019-07-05T10:58:13.641077Z"
    },
    "scrolled": false
   },
   "outputs": [],
   "source": [
    "from datetime import datetime\n",
    "def current_date():\n",
    "    yyyy = int(datetime.today().strftime('%Y'))\n",
    "    mm = int(datetime.today().strftime('%m'))\n",
    "    dd = int(datetime.today().strftime('%d'))\n",
    "    return yyyy,mm,dd"
   ]
  },
  {
   "cell_type": "code",
   "execution_count": 25,
   "metadata": {
    "scrolled": false
   },
   "outputs": [
    {
     "data": {
      "text/plain": [
       "19"
      ]
     },
     "execution_count": 25,
     "metadata": {},
     "output_type": "execute_result"
    }
   ],
   "source": [
    "#skriv koden din her\n",
    "def findAge(bYear,bMonth,bDay):\n",
    "    cYear,cMonth,cDay=current_date()\n",
    "    age=cYear-bYear\n",
    "    if cMonth<bMonth:\n",
    "        age=age-1\n",
    "        return age\n",
    "    elif cMonth==bMonth:\n",
    "        if cDay<bDay:\n",
    "            age=age-1\n",
    "            return age\n",
    "        else:\n",
    "            return age\n",
    "    else:\n",
    "        return age\n",
    "\n",
    "findAge(2000,12,15)"
   ]
  },
  {
   "cell_type": "markdown",
   "metadata": {
    "deletable": false,
    "editable": false,
    "run_control": {
     "frozen": true
    }
   },
   "source": [
    "### Oppgave 2c) (7.5 %)"
   ]
  },
  {
   "cell_type": "markdown",
   "metadata": {
    "deletable": false,
    "editable": false,
    "run_control": {
     "frozen": true
    }
   },
   "source": [
    "Lag en funksjon **`printAgeDiff`** som tar en parameter **table**,som er en to-dimensjonal tabell (liste av lister) der hver rekke beskriver personer med fornavn, etternavn, fødselsår, fødselsmåned og fødselsdato. Funksjonen skal bruke funksjonen **`findAge`** fra oppgave 2b til å sammenlikne alderen i hele år på etterfølgende personer i tabellen (rekke for rekke) og gjøre følgende:\n",
    "\n",
    "* Hvis person n og person n+1 har samme alder angitt i antall hele år, skal følgende skrives ut til skjerm:  \n",
    "``<fornavnn> <etternavnn> is at the same age as <fornavnn+1> <etternavnn+1>``\n",
    "* Hvis person n er eldre enn person n+1 angitt i antall hele år, skal følgende skrives ut til skjerm:  \n",
    "``<fornavnn> <etternavnn> is older than <fornavnn+1> <etternavn n+1>``\n",
    "* Hvis person n er yngre enn person n+1 angitt i antall hele år, skal følgende skrives ut til skjerm:  \n",
    "``<fornavnn> <etternavnn> is younger than <fornavnn+1> <etternavnn+1>``\n",
    "\n",
    "Eksempel på en to-dimensjonal tabell som beskriver fire kjente personer:"
   ]
  },
  {
   "cell_type": "code",
   "execution_count": 26,
   "metadata": {
    "scrolled": false
   },
   "outputs": [],
   "source": [
    "table=[['Justin','Bieber',1994,3,1],\n",
    "       ['Donald','Duck',1934,8,1],\n",
    "       ['George','Clooney',1961,5,6],\n",
    "       ['Eddie','Murphy',1961,4,3]]"
   ]
  },
  {
   "cell_type": "markdown",
   "metadata": {
    "deletable": false,
    "editable": false,
    "run_control": {
     "frozen": true
    }
   },
   "source": [
    "Eksempel på kjøring av funksjonen **`printAgeDiff`** med tabellen **table**, som inneholder listene for bieber, donald, george og eddie:\n",
    "\n",
    "```python\n",
    ">>>printAgeDiff(table)\n",
    "Justin Bieber is younger than Donald Duck\n",
    "Donald Duck is older than George Clooney\n",
    "George Clooney is at the same age as Eddie Murphy\n",
    ">>>```"
   ]
  },
  {
   "cell_type": "code",
   "execution_count": 31,
   "metadata": {
    "scrolled": false
   },
   "outputs": [
    {
     "name": "stdout",
     "output_type": "stream",
     "text": [
      "Justin Bieber is younger than Donald Duck\n",
      "Donald Duck is older than George Clooney\n",
      "George Clooney is the same age as Eddie Murphy\n"
     ]
    }
   ],
   "source": [
    "#skriv koden din her\n",
    "def printAgeDiff(table):\n",
    "    for i in range(0,len(table)-1):\n",
    "        fname,sname,Y,M,D=table[i]\n",
    "        fname2,sname2,Y2,M2,D2=table[i+1]\n",
    "        age1=findAge(Y,M,D)\n",
    "        age2=findAge(Y2,M2,D2)\n",
    "        if age1<age2:\n",
    "            print(fname,sname,\"is younger than\",fname2,sname2)\n",
    "        elif age1==age2:\n",
    "            print(fname,sname,\"is the same age as\",fname2,sname2)\n",
    "        elif age1>age2:\n",
    "            print(fname,sname,\"is older than\",fname2,sname2)\n",
    "            \n",
    "printAgeDiff(table)"
   ]
  },
  {
   "cell_type": "markdown",
   "metadata": {
    "deletable": false,
    "editable": false,
    "run_control": {
     "frozen": true
    }
   },
   "source": [
    "## Oppgave 3 - Kodeforståelse (15%)"
   ]
  },
  {
   "cell_type": "markdown",
   "metadata": {
    "deletable": false,
    "editable": false,
    "run_control": {
     "frozen": true
    }
   },
   "source": [
    "### Oppgave 3a) (5%)"
   ]
  },
  {
   "cell_type": "markdown",
   "metadata": {
    "deletable": false,
    "editable": false,
    "run_control": {
     "frozen": true
    }
   },
   "source": [
    "Hva returneres hvis funksjonen `fu1(1234)`med kode som vist under kjøres?\n",
    "\n",
    "```python\n",
    "def fu1(a):\n",
    "    r = 0\n",
    "    while(a>0):\n",
    "        s = a%10\n",
    "        r = r + s\n",
    "        a = (a-s)/10\n",
    "return r```"
   ]
  },
  {
   "cell_type": "markdown",
   "metadata": {},
   "source": [
    "Svar: \n",
    "\n",
    "Funksjonen printer nummeret baklengs, i dette tilfellet: 4321"
   ]
  },
  {
   "cell_type": "markdown",
   "metadata": {
    "deletable": false,
    "editable": false,
    "run_control": {
     "frozen": true
    }
   },
   "source": [
    "### Oppgave 3b) (5%)"
   ]
  },
  {
   "cell_type": "markdown",
   "metadata": {
    "deletable": false,
    "editable": false,
    "run_control": {
     "frozen": true
    }
   },
   "source": [
    "Hva blir verdiene til a,b,c og d etter kallet  \n",
    "`(a, b, c, d) = fu2(’Ut pa tur, aldri sur’)`  \n",
    "med koden som vist under?\n",
    "\n",
    "```python\n",
    "    def fu2(input):\n",
    "        r = 0\n",
    "        s = 0\n",
    "        t = 0\n",
    "        u = 0\n",
    "        n = len(input)\n",
    "        for c in input:\n",
    "            if(c.isalpha()):\n",
    "                r = r + 1\n",
    "            elif(c.isdigit()):\n",
    "                s = s + 1\n",
    "            elif(c==' '):\n",
    "                t = t + 1\n",
    "            else:\n",
    "                u = u + 1\n",
    "        r = 100*r/n\n",
    "        s = 100*s/n\n",
    "        t = 100*t/n\n",
    "        u = 100*u/n\n",
    "        return(r,s,t,u)\n",
    "    ```"
   ]
  },
  {
   "cell_type": "markdown",
   "metadata": {},
   "source": [
    "Svar: \n",
    "\n",
    "Funksjonen gir det antall prosent av stringen som er bokstaver, tall, mellomrom og annet.\n",
    "\n",
    "I dette tilfellet er:\n",
    "\n",
    "r=75, s=0, t=20, u=5"
   ]
  },
  {
   "cell_type": "markdown",
   "metadata": {
    "deletable": false,
    "editable": false,
    "run_control": {
     "frozen": true
    }
   },
   "source": [
    "### Oppgave 3c) (5%)"
   ]
  },
  {
   "cell_type": "markdown",
   "metadata": {
    "deletable": false,
    "editable": false,
    "run_control": {
     "frozen": true
    }
   },
   "source": [
    "Hva returneres av kallet `fu3(100)`med koden som vist under?\n",
    "```python\n",
    "def fu3(a):\n",
    "    if(a<=2):\n",
    "        r = 1\n",
    "    else:\n",
    "        r = 1 + fu3(a/2)\n",
    "    return r\n",
    "    ```"
   ]
  },
  {
   "cell_type": "markdown",
   "metadata": {},
   "source": [
    "Svar: \n",
    "\n",
    "Mønsteret man ser her kan man se eksponenten til 2 som gir et tallet som er nærmest \"a\" som også er høyere enn a. \n",
    "\n",
    "I dette tilfellet vi fu3(100) returnere \"7\". Fordi 2^7 (128) er den nærmeste verdien til 100 som er høyere enn 100."
   ]
  },
  {
   "cell_type": "markdown",
   "metadata": {
    "deletable": false,
    "editable": false,
    "run_control": {
     "frozen": true
    }
   },
   "source": [
    "## Oppgave 4 - Programmering (40%)"
   ]
  },
  {
   "cell_type": "markdown",
   "metadata": {
    "deletable": false,
    "editable": false,
    "run_control": {
     "frozen": true
    }
   },
   "source": [
    "Denne oppgaven fokuserer på behandling av data fra fire vær sensorer som måler en verdi per døgn av følgende data:\n",
    "\n",
    "* Temperatur: Angis som heltall i Celsius fra -50C til + 50C\n",
    "* Nedbør: Angis som heltall i mm nedbør per døgn fra 0 til 2000mm\n",
    "* Luftfuktighet. Angis som heltall fra 0 til 100%\n",
    "* Vindstyrke: Angis som heltall fra 0 til 50 meter per sekund\n",
    "\n",
    "Hvis ikke noe annet er oppgitt kan du anta korrekt input til funksjonene."
   ]
  },
  {
   "cell_type": "markdown",
   "metadata": {
    "deletable": false,
    "editable": false,
    "run_control": {
     "frozen": true
    }
   },
   "source": [
    "### Oppgave 4a) (5%)"
   ]
  },
  {
   "cell_type": "markdown",
   "metadata": {
    "deletable": false,
    "editable": false,
    "run_control": {
     "frozen": true
    }
   },
   "source": [
    "Lag en funksjon **`cold_days`** som tar imot parameteren **templist**, som en liste av temperaturer, og returnerer variabelen **days**,som angir antall døgn der temperaturen var under 0 grader.\n",
    "\n",
    "Eksempel på kall av funksjonen og hva den returnerer:\n",
    "```python\n",
    ">>> days = cold_days([1,-5,3,0,-6,-3,15,0])\n",
    ">>> days\n",
    "3\n",
    ">>>\n",
    "```"
   ]
  },
  {
   "cell_type": "code",
   "execution_count": 33,
   "metadata": {
    "scrolled": false
   },
   "outputs": [
    {
     "data": {
      "text/plain": [
       "3"
      ]
     },
     "execution_count": 33,
     "metadata": {},
     "output_type": "execute_result"
    }
   ],
   "source": [
    "#skriv koden din her\n",
    "def cold_days(templist):\n",
    "    days=0\n",
    "    for i in templist:\n",
    "        if i<0:\n",
    "            days+=1\n",
    "    return days\n",
    "\n",
    "cold_days([1,-5,3,0,-6,-3,15,0])"
   ]
  },
  {
   "cell_type": "markdown",
   "metadata": {
    "deletable": false,
    "editable": false,
    "run_control": {
     "frozen": true
    }
   },
   "source": [
    "### Oppgave 4 b) (5 %)"
   ]
  },
  {
   "cell_type": "markdown",
   "metadata": {
    "deletable": false,
    "editable": false,
    "run_control": {
     "frozen": true
    }
   },
   "source": [
    "Lag en funksjon **`cap_data`** som har inn-parameterne **array** (liste med data), **min_value** (minimumsverdi) og **max_value** (maksimumsverdi). Funksjonen skal returnere ei ny liste **result** der alle elementer i lista **array** som har verdi mindre enn **min_value** skal settes lik **min_value** og alle elementer i lista **array** som har verdi høyere enn **max_value** skal settes lik **max_value**.\n",
    "\n",
    "Eksempel på kall av funksjonen og hva den returnerer:\n",
    "```python\n",
    ">>>A=[-70,30,0,90,23,-12,95,12]\n",
    ">>>result = cap_data(A,-50,50)\n",
    ">>>result\n",
    "[-50,30,0,50,23,-12,50,12]\n",
    ">>>```\n",
    "\n",
    "Legg merke til hvilke verdier som endres."
   ]
  },
  {
   "cell_type": "code",
   "execution_count": 34,
   "metadata": {
    "scrolled": false
   },
   "outputs": [
    {
     "data": {
      "text/plain": [
       "[-50, 30, 0, 50, 23, -12, 50, 12]"
      ]
     },
     "execution_count": 34,
     "metadata": {},
     "output_type": "execute_result"
    }
   ],
   "source": [
    "#skriv koden din her\n",
    "def cap_data(array,min_value,max_value):\n",
    "    result=[]\n",
    "    for i in array:\n",
    "        if i<min_value:\n",
    "            result.append(min_value)\n",
    "        elif i>max_value:\n",
    "            result.append(max_value)\n",
    "        else:\n",
    "            result.append(i)\n",
    "    return result\n",
    "\n",
    "cap_data([-70,30,0,90,23,-12,95,12],-50,50)"
   ]
  },
  {
   "cell_type": "markdown",
   "metadata": {
    "deletable": false,
    "editable": false,
    "run_control": {
     "frozen": true
    }
   },
   "source": [
    "### Oppgave 4c) (10%)"
   ]
  },
  {
   "cell_type": "markdown",
   "metadata": {
    "deletable": false,
    "editable": false,
    "run_control": {
     "frozen": true
    }
   },
   "source": [
    "Lag en funksjon **`generate_testdatasom`** har inn-parameterne **N**, **min_value** (minimumsverdi)og **max_value** (maksimumsverdi). Funksjonen skal returnere tabellen **result** som består av **N** unike *tall* (heltall) som blir trukket tilfeldig der {**min_value** ≤ *tall* ≤ **max_value**}. Unik betyr her at ingen elementer i tabellen **result** skal ha samme verdi. Du kan anta at antall mulige verdier i intervallet tallet blir trukket fra alltid vil være større enn **N**.\n",
    "\n",
    "Eksempel på kall av funksjonen og hva den returnerer:\n",
    "```python\n",
    ">>> result = generate_testdata(10,-5,10)\n",
    ">>> result\n",
    "[-5,3,7,9,-3,4,2,0,-1,5]\n",
    ">>>```"
   ]
  },
  {
   "cell_type": "code",
   "execution_count": 44,
   "metadata": {
    "scrolled": false
   },
   "outputs": [
    {
     "data": {
      "text/plain": [
       "[4, 8, 3, 9, 10, 0, 7, 2, 5, 6]"
      ]
     },
     "execution_count": 44,
     "metadata": {},
     "output_type": "execute_result"
    }
   ],
   "source": [
    "#skriv koden din her\n",
    "import random\n",
    "\n",
    "def generate_testdata(N,min_value,max_value):\n",
    "    result=[]\n",
    "    if max_value-min_value+1>N:\n",
    "        while len(result)<N:\n",
    "            num=random.randint(min_value,max_value)\n",
    "            if result.count(num)==0:\n",
    "                result.append(num)\n",
    "    else:\n",
    "        print(\"N has to be lower than possible numbers between min- and max-value\")\n",
    "    return result\n",
    "\n",
    "generate_testdata(10,0,10)"
   ]
  },
  {
   "cell_type": "markdown",
   "metadata": {
    "deletable": false,
    "editable": false,
    "run_control": {
     "frozen": true
    }
   },
   "source": [
    "### Oppgave 4d) (5%)"
   ]
  },
  {
   "cell_type": "markdown",
   "metadata": {
    "deletable": false,
    "editable": false,
    "run_control": {
     "frozen": true
    }
   },
   "source": [
    "Lag en funksjon **`create_db`** som har inn-parameterne **temp**, **rain**, **humidity** og **wind**,som er fire tabeller av samme størrelse (likt antall elementer) med data for temperatur, nedbør, luftfuktighet og vind.\n",
    "\n",
    "Funksjonen skal lage og returnere *dictionarien* **weather**,der nøkkelen er ett heltall som starter med verdien 1 og teller oppover (representerer dagen for måling). Hvert innslag i *dictionarien* skal være en liste av verdier for temperatur, nedbør, luftfuktighet og vind. Verdiene for **weather** med nøkkel 1 skal inneholde værdata for dag 1, **weather** med nøkkel2 skal inneholde værdata for dag 2 og så videre.\n",
    "\n",
    "Eksempel på kall av funksjonen og hva den returnerer:\n",
    "```python\n",
    ">>> temp = [1,5,3]\n",
    ">>> rain = [0,30,120]\n",
    ">>> humidity = [30,50,65]\n",
    ">>> wind = [3,5,7]\n",
    ">>> weather = create_db(temp,rain,humidity,wind)\n",
    ">>> weather\n",
    "{1: [1, 0, 30, 3], 2: [5, 30, 50, 5], 3: [3, 120, 65, 7]}\n",
    ">>>\n",
    "``` "
   ]
  },
  {
   "cell_type": "code",
   "execution_count": 53,
   "metadata": {
    "scrolled": false
   },
   "outputs": [
    {
     "name": "stdout",
     "output_type": "stream",
     "text": [
      "{'1': [1, 0, 30, 3], '2': [5, 30, 50, 5], '3': [3, 120, 65, 7]}\n"
     ]
    }
   ],
   "source": [
    "#skriv koden din her\n",
    "def create_db(temp,rain,humidity,wind):\n",
    "    weather={}\n",
    "    for i in range(len(temp)):\n",
    "        weather[str(i+1)]=[temp[i],rain[i],humidity[i],wind[i]]\n",
    "    return weather\n",
    "\n",
    "temp = [1,5,3]\n",
    "rain = [0,30,120]\n",
    "humidity = [30,50,65]\n",
    "wind = [3,5,7]\n",
    "weather = create_db(temp,rain,humidity,wind)\n",
    "print(weather)"
   ]
  },
  {
   "cell_type": "markdown",
   "metadata": {
    "deletable": false,
    "editable": false,
    "run_control": {
     "frozen": true
    }
   },
   "source": [
    "### Oppgave 4e) (5%)"
   ]
  },
  {
   "cell_type": "markdown",
   "metadata": {
    "deletable": false,
    "editable": false,
    "run_control": {
     "frozen": true
    }
   },
   "source": [
    "Lag en funksjon **`print_db`** som har inn-parameteren **weather**,som er en dictionary som beskrevet i oppgave 4d. Funksjonen skal skrive ut innholdet i **weather** på skjerm etter følgende format og med overskrift som vist på utskriften nederst i deloppgaven:\n",
    "* Day(dag) –høyrejustert med 4 tegn\n",
    "* Temp (temperatur)–høyrejustert med 6 tegn\n",
    "* Rain (nedbør)–høyrejustert med 6 tegn\n",
    "* Humidity (luftfuktighet)–høyrejustert med 10 tegn\n",
    "* Wind (vind)–høyrejustert med 6 tegn\n",
    "\n",
    "Eksempel på kall av funksjonen ved bruk av dictionarien fra oppgave 4d:\n",
    "```p\n",
    ">>> print_db(weather)\n",
    "Day | Temp | rain | humidity | wind\n",
    "====+======+======+==========+======\n",
    "   1      1      0         30      5\n",
    "   2      5     30         50      3\n",
    "   3      3    120         65      7\n",
    ">>>\n",
    "```"
   ]
  },
  {
   "cell_type": "code",
   "execution_count": 67,
   "metadata": {
    "scrolled": false
   },
   "outputs": [
    {
     "name": "stdout",
     "output_type": "stream",
     "text": [
      "Day | Temp | Rain | Humidity | Wind\n",
      "====+======+======+==========+======\n",
      "   1      1      0         30      3\n",
      "   2      5     30         50      5\n",
      "   3      3    120         65      7\n"
     ]
    }
   ],
   "source": [
    "#skriv koden din her\n",
    "def print_db(weather):\n",
    "    days=list(weather.keys())\n",
    "    data=list(weather.values())\n",
    "    temp=[data[0][0],data[1][0],data[2][0]]\n",
    "    rain=[data[0][1],data[1][1],data[2][1]]\n",
    "    humidity=[data[0][2],data[1][2],data[2][2]]\n",
    "    wind=[data[0][3],data[1][3],data[2][3]]\n",
    "    print(\"Day\",\"|\",\"Temp\",\"|\",\"Rain\",\"|\",\"Humidity\",\"|\",\"Wind\")\n",
    "    print(\"=\"*4 + \"+\" + \"=\"*6 + \"+\" + \"=\"*6 + \"+\" + \"=\"*10 + \"+\" + \"=\"*6)\n",
    "    for i in range(len(days)):\n",
    "        print(str(days[i]).rjust(4),str(temp[i]).rjust(6),str(rain[i]).rjust(6),str(humidity[i]).rjust(10),str(wind[i]).rjust(6))\n",
    "    \n",
    "\n",
    "print_db({'1': [1, 0, 30, 3], '2': [5, 30, 50, 5], '3': [3, 120, 65, 7]})\n",
    "    "
   ]
  },
  {
   "cell_type": "markdown",
   "metadata": {
    "deletable": false,
    "editable": false,
    "run_control": {
     "frozen": true
    }
   },
   "source": [
    "### Oppgave 4f) (10%)"
   ]
  },
  {
   "cell_type": "markdown",
   "metadata": {
    "deletable": false,
    "editable": false,
    "run_control": {
     "frozen": true
    }
   },
   "source": [
    "Lag funksjonen **`strange_weather`** som har inn-parameterne **temp** og **rain**,som er to tabeller med data for temperaturer og regn av lik størrelse (samme antall elementer). Funksjonen skal returnere **start** (startdag)og **stop** (sluttdag)for det lengste intervallet der det er minusgrader, samt at temperaturen faller samtidig som nedbørsmengden stiger i etterfølgende dager. Indekseringen av dager starter på 1. Hvis ingen etterfølgende dager har denne karakteristikken, returneres (0,0).\n",
    "\n",
    "Eksempel på kall av funksjonen(med intervall som oppfyller kravet uthevet):\n",
    "```python\n",
    ">>> temp=[1,3, 4,-5,-6,-7,-8,-9,3,0]\n",
    ">>> rain=[0,20,30,0,10,30,50,0,5,2]\n",
    ">>> (start, stop) = strange_weather(temp,rain)\n",
    ">>> start\n",
    "4\n",
    ">>> stop\n",
    "7\n",
    ">>>\n",
    "```"
   ]
  },
  {
   "cell_type": "code",
   "execution_count": 71,
   "metadata": {
    "ExecuteTime": {
     "end_time": "2019-07-05T12:00:04.448245Z",
     "start_time": "2019-07-05T12:00:04.442468Z"
    },
    "scrolled": false
   },
   "outputs": [
    {
     "name": "stdout",
     "output_type": "stream",
     "text": [
      "(4, 7)\n"
     ]
    }
   ],
   "source": [
    "#skriv koden din her\n",
    "def strange_weather(temp,rain):\n",
    "    currentDay=0\n",
    "    PreviousRain=-1\n",
    "    PreviousTemp=0\n",
    "    currentStreak=0\n",
    "    RecordStreak=0\n",
    "    RecordStart=0\n",
    "    RecordEnd=0\n",
    "    for i in range(len(temp)):\n",
    "        if temp[i]<0 and temp[i]<PreviousTemp and rain[i]>PreviousRain:\n",
    "            if currentDay==0:\n",
    "                currentDay=i+1 #Vi starter ved dag nr.0\n",
    "            currentStreak+=1\n",
    "            PreviousTemp=temp[i]\n",
    "            PreviousRain=rain[i]\n",
    "        else:\n",
    "            if currentStreak>RecordStreak:\n",
    "                RecordStreak=currentStreak\n",
    "                RecordStart=currentDay\n",
    "                RecordEnd=i #Denne dagen er ikke gyldig, vi bruker forrige dag\n",
    "                currentStreak=0\n",
    "                currentDay=0\n",
    "            else:\n",
    "                currentStreak=0\n",
    "                currentDay=0\n",
    "    start=RecordStart\n",
    "    stop=RecordEnd\n",
    "    return start,stop\n",
    "\n",
    "temp=[1,3, 4,-5,-6,-7,-8,-9,3,0]\n",
    "rain=[0,20,30,0,10,30,50,0,5,2]            \n",
    "print(strange_weather(temp,rain))        "
   ]
  }
 ],
 "metadata": {
  "kernelspec": {
   "display_name": "Python 3",
   "language": "python",
   "name": "python3"
  },
  "language_info": {
   "codemirror_mode": {
    "name": "ipython",
    "version": 3
   },
   "file_extension": ".py",
   "mimetype": "text/x-python",
   "name": "python",
   "nbconvert_exporter": "python",
   "pygments_lexer": "ipython3",
   "version": "3.8.3"
  },
  "toc": {
   "base_numbering": 1,
   "nav_menu": {},
   "number_sections": false,
   "sideBar": true,
   "skip_h1_title": false,
   "title_cell": "Table of Contents",
   "title_sidebar": "Contents",
   "toc_cell": false,
   "toc_position": {},
   "toc_section_display": true,
   "toc_window_display": false
  }
 },
 "nbformat": 4,
 "nbformat_minor": 2
}
