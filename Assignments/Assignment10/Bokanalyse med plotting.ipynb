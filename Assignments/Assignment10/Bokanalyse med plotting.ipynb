{
 "cells": [
  {
   "cell_type": "markdown",
   "metadata": {
    "deletable": false,
    "editable": false,
    "run_control": {
     "frozen": true
    }
   },
   "source": [
    " <nav class=\"navbar navbar-default\">\n",
    "  <div class=\"container-fluid\">\n",
    "    <div class=\"navbar-header\">\n",
    "      <a class=\"navbar-brand\" href=\"_Oving10.ipynb\">Øving 10</a>\n",
    "    </div>\n",
    "    <ul class=\"nav navbar-nav\">\n",
    "    <li ><a href=\"Rekursjon.ipynb\">Rekursjon (Obligatorisk TDT4109)</a></li>\n",
    "    <li ><a href=\"Matplotlib.ipynb\">Matplotlib (Obligatorisk TDT4110)</a></li>\n",
    "    <li ><a href=\"Eksamen%202012.ipynb\">Eksamen Python 2012</a></li>\n",
    "    <li ><a href=\"Sudoku.ipynb\">Sudoku</a></li>\n",
    "    <li ><a href=\"numpy-arrays%20og%20matplotlib.ipynb\">Numpy-arrays og matplotlib (TDT4110)</a></li>\n",
    "    <li class=\"active\"><a href=\"Bokanalyse%20med%20plotting.ipynb\">Bokanalyse med plotting (TDT4110)</a></li>\n",
    "    <li ><a href=\"Sjakk.ipynb\">Sjakk</a></li>\n",
    "    </ul>\n",
    "  </div>\n",
    "</nav>\n",
    "\n",
    "\n",
    "# Bokanalyse med plotting (TDT4110)"
   ]
  },
  {
   "cell_type": "markdown",
   "metadata": {},
   "source": [
    "I denne oppgaven skal du analysere boken *Alice in Wonderland* og se hvor mange ganger forskjellige ord dukker opp i de forskjellige kapitlene. Dette skal vi etterhvert plotte inn i en graf ved hjelp av `matplotlib`.\n",
    "\n",
    "Filen vi skal bruke er [alice_in_wonderland.txt](alice_in_wonderland.txt), som er hele den engelske versjonen av Alice i eventyrland i en tekstfil."
   ]
  },
  {
   "cell_type": "markdown",
   "metadata": {},
   "source": [
    "## a) Oppdeling i kapitler"
   ]
  },
  {
   "cell_type": "markdown",
   "metadata": {},
   "source": [
    "I første oppgave skal du lage funksjonen `get_chapters(filename, chapter_delimiter)` som tar inn et filnavn `filename` pluss en *skillestreng* `chapter_delimiter` og returnerer en liste av strenger hvor hver streng er teksten til et kapittel i boken. Skillestrengen er en streng som befinner seg før hvert kapittel, men *ikke noe annet sted i boken*.\n",
    "\n",
    "Forordet skal ikke være med, så den første strengen i listen som returneres skal være teksten til kapittel 1.\n",
    "\n",
    "***Skriv koden i kodeblokken under:***"
   ]
  },
  {
   "cell_type": "code",
   "execution_count": 41,
   "metadata": {},
   "outputs": [],
   "source": [
    "def get_chapters(filename, chapter_delimiter):\n",
    "    r=open(filename,\"r\")\n",
    "    chapters=r.read()\n",
    "    chapters=chapters.split(chapter_delimiter)\n",
    "    chapters.pop(0)\n",
    "    r.close()\n",
    "    return chapters"
   ]
  },
  {
   "cell_type": "markdown",
   "metadata": {},
   "source": [
    "I [alice_in_wonderland.txt](alice_in_wonderland.txt) finnes strengen `'CHAPTER'` (i store bokstaver) mellom hvert kapittel, så til denne boka kan vi bruke `'CHAPTER'` som vår `chapter_delimiter`.\n",
    "\n",
    "Har du gjort alt riktig burde output fra koden under være `12` siden Alice in Wonderland har 12 kapitler. *husk å kjøre koden med funksjonen din over først!*"
   ]
  },
  {
   "cell_type": "code",
   "execution_count": 42,
   "metadata": {},
   "outputs": [
    {
     "name": "stdout",
     "output_type": "stream",
     "text": [
      "12\n"
     ]
    }
   ],
   "source": [
    "chapters = get_chapters(\"alice_in_wonderland.txt\", \"CHAPTER\")\n",
    "print(len(chapters))"
   ]
  },
  {
   "cell_type": "markdown",
   "metadata": {},
   "source": [
    "#### Hint"
   ]
  },
  {
   "cell_type": "markdown",
   "metadata": {},
   "source": [
    "- Funksjonen `split` er din venn.\n",
    "- Hvis din output er `13` fra testkoden, kan det hende du har tatt med teksten som kommer før 1. kapittel"
   ]
  },
  {
   "cell_type": "markdown",
   "metadata": {},
   "source": [
    "## b) Telling av ord"
   ]
  },
  {
   "cell_type": "markdown",
   "metadata": {},
   "source": [
    "Lag funksjonen `count_words(string_list, word)` som tar inn en liste med strenger `string_list` og et ord `word` og returnerer en ny liste med antallet ganger `word` befinner seg i hver av strengene i `string_list`. Se på eksempelet lenger ned hvis dette var uklart.\n",
    "\n",
    "Funksjonen skal gjelde uavhengig av hvilke bokstaver som er store og små i `word` og `string_list`. \n",
    "\n",
    "***Skriv koden i kodeblokken under:***"
   ]
  },
  {
   "cell_type": "code",
   "execution_count": 47,
   "metadata": {},
   "outputs": [],
   "source": [
    "def count_words(string_list,word):\n",
    "    c_list=[]\n",
    "    for string in string_list:\n",
    "        string=string.lower()\n",
    "        c=string.count(word.lower())\n",
    "        c_list.append(c)\n",
    "    return c_list"
   ]
  },
  {
   "cell_type": "markdown",
   "metadata": {},
   "source": [
    "*Eksempel på bruk:*\n",
    "\n",
    "Du kan teste om funksjonen din fungerer som den skal med koden under (men husk å kjøre kodeblokken med funksjonen din først!):"
   ]
  },
  {
   "cell_type": "code",
   "execution_count": 48,
   "metadata": {},
   "outputs": [
    {
     "data": {
      "text/plain": [
       "[1, 2]"
      ]
     },
     "execution_count": 48,
     "metadata": {},
     "output_type": "execute_result"
    }
   ],
   "source": [
    "strengliste = [\"Takpapp, veggpapp, papp og papir\", \"Papir, stein, saks og papir\"]\n",
    "count_words(strengliste, \"Papir\")"
   ]
  },
  {
   "cell_type": "markdown",
   "metadata": {},
   "source": [
    "Har du gjort alt riktig skal denne koden printe listen `[1,2]`, siden `\"Takpapp, veggpapp, papp og papir\"` inneholder én `\"Papir\"`, mens `\"Papir, stein, saks og papir\"` inneholder to `\"Papir\"`."
   ]
  },
  {
   "cell_type": "markdown",
   "metadata": {
    "heading_collapsed": true
   },
   "source": [
    "#### Hint"
   ]
  },
  {
   "cell_type": "markdown",
   "metadata": {
    "hidden": true
   },
   "source": [
    "Du kan bruke den innebygde funksjonen `string.count(word)` som teller antall ganger et ord befinner seg i en streng. Dette vil nok gjøre oppgaven betydelig enklere. Test det ut med koden under:"
   ]
  },
  {
   "cell_type": "code",
   "execution_count": null,
   "metadata": {
    "hidden": true
   },
   "outputs": [],
   "source": [
    "rar_setning = \"Hadde jeg hatt en hatt i går ville jeg nok hatt hatt i dag også\"\n",
    "print(rar_setning.count(\"hatt\"))"
   ]
  },
  {
   "cell_type": "markdown",
   "metadata": {
    "hidden": true
   },
   "source": [
    "**Obs:** funksjonen `count` tar hensyn til store og små bokstaver, så dette må du gjøre noe med i koden din."
   ]
  },
  {
   "cell_type": "markdown",
   "metadata": {},
   "source": [
    "## c) Nummerert liste"
   ]
  },
  {
   "cell_type": "markdown",
   "metadata": {},
   "source": [
    "I den neste oppgaven skal du lage funksjonen `create_numbers_to(number)` som tar inn et nummer `number` og returnerer en liste som inneholder like mange elementer som `number` på formen `[1,2,3,4..., number-1, number]`. Det høyeste (og siste) tallet i listen skal altså være `number`\n",
    "\n",
    "For eksempel skal `create_numbers_to(7)` returnere listen `[1, 2, 3, 4, 5, 6, 7]`\n",
    "\n",
    "***Skriv koden i kodeblokken under og test at den fungerer:***"
   ]
  },
  {
   "cell_type": "code",
   "execution_count": 49,
   "metadata": {},
   "outputs": [
    {
     "name": "stdout",
     "output_type": "stream",
     "text": [
      "[1, 2, 3, 4, 5, 6, 7]\n"
     ]
    }
   ],
   "source": [
    "def create_numbers_to(number):\n",
    "    numbers=[]\n",
    "    for i in range(1,number+1):\n",
    "        numbers.append(i)\n",
    "    return numbers\n",
    "\n",
    "#Kunne blitt gjort lettere ved hjelp av numpy\n",
    "\n",
    "print(create_numbers_to(7))"
   ]
  },
  {
   "cell_type": "markdown",
   "metadata": {},
   "source": [
    "## d) Analyze_book"
   ]
  },
  {
   "cell_type": "markdown",
   "metadata": {},
   "source": [
    "Det er nå dette virkelig blir gøy, for nå skal du lage funksjonen `analyze_book(filename, chapter_delimiter, word)` som tar i bruk funksjonene du har definert i de forrige oppgavene. `analyze_book` tar inn ordet `word` og plotter en graf hvor x-aksen er kapittelnumrene i boka, mens y-aksen er antall ganger `word` finnes i dette kapittelet. `filename` og `chapter_delimiter` er det samme som i oppgave a (og trengs nesten kun for å sendes inn i den funksjonen, hint hint). Hvis du ikke husker hvordan du plotter grafer kan du se på de tidligere øvingsoppgavene. Grafen skal se ut som dette:\n",
    "\n",
    "- Tittelen på grafen skal være: Antall ganger \"<word\\>\" dukker opp per kapittel i \"<filename\\>\"'\n",
    "- Tittelen på x-aksen skal være: Kapittel\n",
    "- Tittelen på y-aksen skal være: Antall \"<word\\>\"\n",
    "- x-aksen skal gå fra 1 til antall kapittel i boka\n",
    "- y-aksen skal gå fra 0 til det høyeste antallet ganger `word` dukker opp i et kapittel + 3. (så grafen ikke krasjer i taket)\n",
    "\n",
    "<word\\> må her byttes ut med ordet som blir sendt inn i funksjonen, og <filename\\> må byttes ut med filnavnet som blir sendt inn i funksjonen.\n",
    "\n",
    "***Skriv koden på markert sted i kodeblokken under:***"
   ]
  },
  {
   "cell_type": "code",
   "execution_count": 93,
   "metadata": {},
   "outputs": [],
   "source": [
    "import matplotlib.pyplot as plt\n",
    "%matplotlib inline\n",
    "\n",
    "# SKRIV DIN KODE HER\n",
    "\n",
    "def analyze_book(filename, chapter_delimiter, word):\n",
    "    chapters=get_chapters(filename, chapter_delimiter)\n",
    "    count=count_words(chapters, word)\n",
    "    chapterNums=create_numbers_to(len(chapters))\n",
    "    plt.plot(chapterNums,count,\"r-\")\n",
    "    plt.ylabel(\"Number of words\")\n",
    "    plt.xlabel(\"Chapter\")\n",
    "    plt.axis([0,13,0,60])\n",
    "    plt.show()"
   ]
  },
  {
   "cell_type": "markdown",
   "metadata": {},
   "source": [
    "Hvis du har skrevet funksjonen over riktig skal koden under plotte en graf over hvor mange ganger ordet \"alice\" er nevnt per kapittel i `alice_in_wonderland.txt`. Bytt gjerne ut `'alice'` med andre ord!"
   ]
  },
  {
   "cell_type": "code",
   "execution_count": 94,
   "metadata": {},
   "outputs": [
    {
     "data": {
      "image/png": "[encoded data removed]",
      "text/plain": [
       "<Figure size 432x288 with 1 Axes>"
      ]
     },
     "metadata": {
      "needs_background": "light"
     },
     "output_type": "display_data"
    }
   ],
   "source": [
    "analyze_book('alice_in_wonderland.txt', 'CHAPTER', 'alice')"
   ]
  },
  {
   "cell_type": "markdown",
   "metadata": {},
   "source": [
    "#### Hint"
   ]
  },
  {
   "cell_type": "markdown",
   "metadata": {},
   "source": [
    "Du kan bruke funksjonen i oppgave a for å dele opp teksten i kapitler, funksjonen i oppgave b for å finne y-verdiene og funksjonen i oppgave c for å finne x-verdiene.\n",
    "\n",
    "Det er mulig at du kan få bruk for den innebygde funksjonen `max(liste)` som finner det høyeste tallet i listen."
   ]
  },
  {
   "cell_type": "markdown",
   "metadata": {},
   "source": [
    "## e) Flere ord med samme funksjon"
   ]
  },
  {
   "cell_type": "markdown",
   "metadata": {},
   "source": [
    "Lag funksjonen `analyze_multiple_words(filename, chapter_delimiter, words)`. Her er `words` en liste med ord, og funksjonen skal tegne en graf med `analyze_book` for hvert av ordene i `words`.\n",
    "\n",
    "***Skriv koden din i kodeblokken under:***"
   ]
  },
  {
   "cell_type": "code",
   "execution_count": null,
   "metadata": {},
   "outputs": [],
   "source": [
    "def analyze_multiple_words(filename, chapter_delimiter, words):\n",
    "    \n",
    "    chapters=get_chapters(filename, chapter_delimiter)\n",
    "    for word in words:\n",
    "        count=count_words(chapters, word)\n",
    "        chapterNums=create_numbers_to(len(chapters))\n",
    "        plt.plot(chapterNums,count,\"r-\")\n",
    "    plt.ylabel(\"Number of words\")\n",
    "    plt.xlabel(\"Chapter\")\n",
    "    plt.axis([0,13,0,60])\n",
    "    plt.show()"
   ]
  },
  {
   "cell_type": "markdown",
   "metadata": {},
   "source": [
    "Du kan teste ut funksjonen din med kodeblokken nedenfor, som altså burde tegne opp 7 grafer:"
   ]
  },
  {
   "cell_type": "code",
   "execution_count": null,
   "metadata": {},
   "outputs": [],
   "source": [
    "words = [\"rabbit\", \"caterpillar\", \"sister\", \"cat\", \"queen\", \"turtle\", \"hatter\"]\n",
    "analyze_multiple_words('alice_in_wonderland.txt', 'CHAPTER', words)"
   ]
  },
  {
   "cell_type": "markdown",
   "metadata": {},
   "source": [
    "## f) Ny bok: Peter Pan (frivillig)"
   ]
  },
  {
   "cell_type": "markdown",
   "metadata": {},
   "source": [
    "**Denne oppgaven er ikke nødvendig å gjøre for å få øvingen godkjent.**\n",
    "\n",
    "Funksjonene som vi har definert i tidligere oppgaver er veldig generelle. Sjekk ut filen [peter_pan.txt](peter_pan.txt) og prøv å bruk funksjonene du allerede har definert til å analysere denne. Hint: gå inn i filen og se om du finner en passende `chapter_delimitter`. Peter Pan har 17 kapitler, så dette burde bli en noe større graf.\n",
    "\n",
    "Du kan finne interessante søkeord på https://en.wikipedia.org/wiki/Characters_of_Peter_Pan\n",
    "\n",
    "**Obs**: \"peter pan\"-tekstfilen er lastet ned fra [project gutenberg](https://www.gutenberg.org/), og kom opprinnelig med [denne lisensen](lisens_peter_pan.txt). Dette er ikke noe du trenger å bry deg om hvis du ikke skal redistribuere filen.\n",
    "\n",
    "***Skriv koden din i kodeblokken under:***"
   ]
  },
  {
   "cell_type": "code",
   "execution_count": null,
   "metadata": {},
   "outputs": [],
   "source": []
  }
 ],
 "metadata": {
  "kernelspec": {
   "display_name": "Python 3",
   "language": "python",
   "name": "python3"
  },
  "language_info": {
   "codemirror_mode": {
    "name": "ipython",
    "version": 3
   },
   "file_extension": ".py",
   "mimetype": "text/x-python",
   "name": "python",
   "nbconvert_exporter": "python",
   "pygments_lexer": "ipython3",
   "version": "3.8.3"
  },
  "toc": {
   "base_numbering": 1,
   "nav_menu": {},
   "number_sections": false,
   "sideBar": true,
   "skip_h1_title": false,
   "title_cell": "Table of Contents",
   "title_sidebar": "Contents",
   "toc_cell": false,
   "toc_position": {},
   "toc_section_display": true,
   "toc_window_display": false
  }
 },
 "nbformat": 4,
 "nbformat_minor": 2
}
