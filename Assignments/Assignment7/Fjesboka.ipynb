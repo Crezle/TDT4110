{
 "cells": [
  {
   "cell_type": "markdown",
   "metadata": {
    "deletable": false,
    "editable": false,
    "run_control": {
     "frozen": true
    }
   },
   "source": [
    "<nav class=\"navbar navbar-default\">\n",
    "  <div class=\"container-fluid\">\n",
    "    <div class=\"navbar-header\">\n",
    "      <a class=\"navbar-brand\" href=\"_Oving7.ipynb\">Øving 7</a>\n",
    "    </div>\n",
    "    <ul class=\"nav navbar-nav\">\n",
    "    <li ><a href=\"Aksessering.ipynb\">Aksessering av karakter</a></li>\n",
    "    <li ><a href=\"Strenger%20og%20konkatinering.ipynb\">Konkatinering</a></li>\n",
    "    <li ><a href=\"Slicing.ipynb\">Slicing</a></li>\n",
    "    <li ><a href=\"Tekstbehandling.ipynb\">Tekstbehandling</a></li>\n",
    "    <li ><a href=\"Strenghandtering.ipynb\">Strenghåndtering</a></li>\n",
    "    <li ><a href=\"Innebygde%20funksjoner.ipynb\">Innebygde funksjoner og lister</a></li>\n",
    "    <li class=\"active\"><a href=\"Fjesboka.ipynb\">Fjesboka</a></li>\n",
    "    <li ><a href=\"Akkorder%20og%20toner.ipynb\">Akkorder og toner</a></li>\n",
    "    <li ><a href=\"Ideel%20gasslov.ipynb\">Ideel Gasslov</a></li>\n",
    "    <li><a href=\"Sammenhengende%20tallrekke.ipynb\">Sammenhengende Tallrekke</a></li>\n",
    "    <li ><a href=\"Sortering.ipynb\">Sortering</a></li>\n",
    "    <li ><a href=\"Strengmanipulasjon.ipynb\">Strengmanipulasjon</a></li>\n",
    "    <li ><a href=\"Kryptering.ipynb\">Kryptering</a></li>\n",
    "    <li ><a href=\"Litt%20sjakk.ipynb\">Litt Sjakk</a></li>\n",
    "    </ul>\n",
    "  </div>\n",
    "</nav>\n",
    "\n",
    "# Fjesboka\n",
    "\n",
    "**Læringsmål:**\n",
    "\n",
    "* Lister\n",
    "* Input\n",
    "* Strenger\n",
    "\n",
    "**Starting Out with Python:**\n",
    "\n",
    "* Kap. 7: Lists and Tuples\n",
    "* Kap. 8.3\n",
    " * s. 379-380: Splitting a String\n",
    " \n",
    "I denne oppgaven skal du ta inn informasjon fra brukere på et gitt format, lagre dataen i lister og gjøre det mulig for brukeren å hente ut denne informasjonen igjen. "
   ]
  },
  {
   "cell_type": "markdown",
   "metadata": {
    "deletable": false,
    "editable": false,
    "run_control": {
     "frozen": true
    }
   },
   "source": [
    "## a)"
   ]
  },
  {
   "cell_type": "markdown",
   "metadata": {
    "deletable": false,
    "editable": false,
    "run_control": {
     "frozen": true
    }
   },
   "source": [
    "Skriv en funksjon `add_data(user)` som skal ta inn en streng `user` på formatet: \"given_name surname age gender relationship_status\" og returnere dette i en liste.\n",
    "\n",
    "Merk at alder skal lagres som en int, mens resten lagres som strenger. (Alder vil alltid ha indeks 2 i listen.)\n",
    "\n",
    "**Eksempel på kjøring av kode**\n",
    "\n",
    ">```python\n",
    "print(add_data(\"Mark Zuckerberg 32 Male Married\"))\n",
    "skrives ut -> [\"Mark\", \"Zuckerberg\", 32, \"Male\", \"Married\"]```\n",
    "\n",
    "***Skriv koden din i kodeblokken under:***"
   ]
  },
  {
   "cell_type": "code",
   "execution_count": 20,
   "metadata": {
    "ExecuteTime": {
     "end_time": "2019-07-04T06:43:54.994924Z",
     "start_time": "2019-07-04T06:43:54.907411Z"
    }
   },
   "outputs": [
    {
     "name": "stdout",
     "output_type": "stream",
     "text": [
      "['Mark', 'Zuckerberg', '32', 'Male', 'Married']\n"
     ]
    }
   ],
   "source": [
    "def add_data(user):\n",
    "    filtered=user.split()\n",
    "    return filtered\n",
    "\n",
    "print(add_data(\"Mark Zuckerberg 32 Male Married\"))"
   ]
  },
  {
   "cell_type": "markdown",
   "metadata": {
    "deletable": false,
    "editable": false,
    "heading_collapsed": true,
    "run_control": {
     "frozen": true
    }
   },
   "source": [
    "#### Hint"
   ]
  },
  {
   "cell_type": "markdown",
   "metadata": {
    "deletable": false,
    "editable": false,
    "hidden": true,
    "run_control": {
     "frozen": true
    }
   },
   "source": [
    "Den innebygde funksjonen `.split()` returnerer en liste bestående av ordene i en streng."
   ]
  },
  {
   "cell_type": "markdown",
   "metadata": {},
   "source": [
    "## b)"
   ]
  },
  {
   "cell_type": "markdown",
   "metadata": {},
   "source": [
    "Skriv en funksjon `get_person(given_name, facebook)` som tar inn et fornavn \"given_name\" og en liste \"facebook\" bestående av mange lister på formatet definert av `add_data(user)` og returnerer en liste bestående av alle personer med fornavnet **given_name.** \n",
    "\n",
    ">```python\n",
    "facebook = [[\"Mark\", \"Zuckerberg\", 32, \"Male\", \"Married\"], \n",
    "                [\"Therese\", \"Johaug\", 28, \"Female\", \"Complicated\"],\n",
    "                [\"Mark\", \"Wahlberg\", 45, \"Male\", \"Married\"],\n",
    "                [\"Siv\", \"Jensen\", 47, \"Female\", \"Single\"]]\n",
    "print(get_person(\"Mark\", facebook))\n",
    "skrives ut -> [[\"Mark\", \"Zuckerberg\", 32, \"Male\", \"Married\"], [\"Mark\", \"Wahlberg\", 45, \"Male\", \"Married\"]]```\n",
    "\n",
    "***Skriv koden din i kodeblokken under:***"
   ]
  },
  {
   "cell_type": "code",
   "execution_count": 1,
   "metadata": {},
   "outputs": [
    {
     "data": {
      "text/plain": [
       "[['Mark', 'Zuckerberg', 32, 'Male', 'Married']]"
      ]
     },
     "execution_count": 1,
     "metadata": {},
     "output_type": "execute_result"
    }
   ],
   "source": [
    "def get_person(given_name,facebook):\n",
    "    filtered=[]\n",
    "    for i in range(len(facebook)):\n",
    "        if facebook[i][0].lower()==given_name.lower():\n",
    "            filtered.append(facebook[i])\n",
    "    return filtered\n",
    "\n",
    "get_person(\"Mark\",[[\"Mark\", \"Zuckerberg\", 32, \"Male\", \"Married\"],[\"Therese\", \"Johaug\", 28, \"Female\", \"Complicated\"]])"
   ]
  },
  {
   "cell_type": "markdown",
   "metadata": {
    "deletable": false,
    "editable": false,
    "run_control": {
     "frozen": true
    }
   },
   "source": [
    "Du kan teste ut funksjonen din med kodeblokken under, (men husk å kjøre kodeblokken din over som inneholder funksjonen først)"
   ]
  },
  {
   "cell_type": "code",
   "execution_count": 10,
   "metadata": {},
   "outputs": [
    {
     "name": "stdout",
     "output_type": "stream",
     "text": [
      "[['Mark', 'Zuckerberg', 32, 'Male', 'Married'], ['Mark', 'Wahlberg', 45, 'Male', 'Married']]\n"
     ]
    }
   ],
   "source": [
    "facebook = [[\"Mark\", \"Zuckerberg\", 32, \"Male\", \"Married\"], \n",
    "                [\"Therese\", \"Johaug\", 28, \"Female\", \"Complicated\"],\n",
    "                [\"Mark\", \"Wahlberg\", 45, \"Male\", \"Married\"],\n",
    "                [\"Siv\", \"Jensen\", 47, \"Female\", \"Single\"]]\n",
    "print(get_person(\"Mark\", facebook))\n"
   ]
  },
  {
   "cell_type": "markdown",
   "metadata": {
    "deletable": false,
    "editable": false,
    "heading_collapsed": true,
    "run_control": {
     "frozen": true
    }
   },
   "source": [
    "#### Hint"
   ]
  },
  {
   "cell_type": "markdown",
   "metadata": {
    "ExecuteTime": {
     "end_time": "2019-07-04T06:55:59.727092Z",
     "start_time": "2019-07-04T06:55:59.716757Z"
    },
    "deletable": false,
    "editable": false,
    "hidden": true,
    "run_control": {
     "frozen": true
    }
   },
   "source": [
    "Fornavnet (indeks = 0) på den første personen (indeks = 0) i listen `facebook` kan finnes ved å skrive `facebook[0][0]`.\n",
    "Det er mulig å iterere gjennom listen `facebook` i stedet for å bruke `facebook[m][n]`, der `m` og `n` er heltall."
   ]
  },
  {
   "cell_type": "markdown",
   "metadata": {
    "deletable": false,
    "editable": false,
    "run_control": {
     "frozen": true
    }
   },
   "source": [
    "## c)"
   ]
  },
  {
   "cell_type": "markdown",
   "metadata": {
    "deletable": false,
    "editable": false,
    "run_control": {
     "frozen": true
    }
   },
   "source": [
    "Skriv funksjonen **main()** som lar brukeren legge til flere personer i en liste.\n",
    "\n",
    "Dette gjøres ved å be brukeren om å legge til en **user** på formen \"given_name surname age gender relationship_status\" så lenge svaret ikke er \"done\".\n",
    "\n",
    "Disse skal legges inn i en liste **facebook** ved hjelp av funksjonen `add_data(user)`.\n",
    "\n",
    "Hvis svaret er \"done\" blir brukeren sendt videre til neste steg. \n",
    "\n",
    "Deretter skal brukeren kunne printe ut informasjon om brukerene fra listen basert på fornavn ved hjelp av funksjonen `get_person(given_name)`. \n",
    "\n",
    "Hvis svaret er \"done\" er programmet ferdig.\n",
    "\n",
    "(Du kan velge om du vil printe ut listene eller skrive en melding til brukeren som vist i eksempelet under)\n",
    "\n",
    "Test programmet ved å kjøre **main()**. \n",
    "\n",
    "**Eksempel på kjøring av kode:**\n",
    "\n",
    ">```\n",
    "Hello, welcome to Facebook. Add a new user by writing \"given_name surname age gender relationship_status\".\n",
    "Add a new user: Therese Johaug 29 Female Complicated\n",
    "Add a new user: Mark Zuckerberg 33 Male Married\n",
    "Add a new user: done\n",
    "Ok\n",
    "Search for a user: Therese\n",
    "Therese Johaug is 29 years old, her relationship status is Complicated.\n",
    "Search for a user: Alf\n",
    "[]\n",
    "Search for a user: Mark\n",
    "Mark Zuckerberg is 33 years old, his relationship status is Married.\n",
    "Search for a user: done\n",
    "```\n",
    "\n",
    "***Skriv koden din i kodeblokken under:***"
   ]
  },
  {
   "cell_type": "raw",
   "metadata": {},
   "source": []
  },
  {
   "cell_type": "code",
   "execution_count": 5,
   "metadata": {},
   "outputs": [
    {
     "name": "stdout",
     "output_type": "stream",
     "text": [
      "Hello, welcome to Facebook. Add a new user by writing given_name surname age gender releationship_status.\n",
      "Add a new user: Therese Johaug 29 Female Complicated\n",
      "Add a new user: Mark Zuckerberg 33 Male Married\n",
      "Add a new user: done\n",
      "Ok\n",
      "Search for a user: Mark\n",
      "Mark Zuckerberg is 33 years old, his relationship status is Married.\n",
      "Search for a user: Therese\n",
      "Therese Johaug is 29 years old, her relationship status is Complicated.\n",
      "Search for a user: done\n"
     ]
    }
   ],
   "source": [
    "def add_data(user):\n",
    "    filtered=user.split()\n",
    "    return filtered\n",
    "\n",
    "def get_person(given_name,facebook):\n",
    "    filtered=[]\n",
    "    for i in range(len(facebook)):\n",
    "        if facebook[i][0].lower()==given_name.lower():\n",
    "            filtered.append(facebook[i])\n",
    "    return filtered\n",
    "    \n",
    "def main():\n",
    "    print(\"Hello, welcome to Facebook. Add a new user by writing \"\"given_name surname age gender releationship_status\"\".\")\n",
    "    userInput=\"\"\n",
    "    usersList=[]\n",
    "    while userInput!=\"done\":\n",
    "        userInput=input(\"Add a new user: \")\n",
    "        if userInput!=\"done\":\n",
    "            userInputSplit=add_data(userInput)\n",
    "            usersList.append(userInputSplit)\n",
    "    print(\"Ok\")\n",
    "    search=\"\"\n",
    "    while search.lower()!=\"done\":\n",
    "        search=input(\"Search for a user: \")\n",
    "        if search!=\"done\":    \n",
    "            result=get_person(search,usersList)\n",
    "            name=result[0][0]\n",
    "            sName=result[0][1]\n",
    "            age=result[0][2]\n",
    "            gender=\"\"\n",
    "            if result[0][3].lower()==\"male\":\n",
    "                gender=\"his\"\n",
    "            elif result[0][3].lower()==\"female\":\n",
    "                gender=\"her\"\n",
    "            status=result[0][4]+\".\"\n",
    "            print(name,sName,\"is\",age,\"years old,\",gender,\"relationship status is\",status)\n",
    "\n",
    "main()"
   ]
  }
 ],
 "metadata": {
  "kernelspec": {
   "display_name": "Python 3",
   "language": "python",
   "name": "python3"
  },
  "language_info": {
   "codemirror_mode": {
    "name": "ipython",
    "version": 3
   },
   "file_extension": ".py",
   "mimetype": "text/x-python",
   "name": "python",
   "nbconvert_exporter": "python",
   "pygments_lexer": "ipython3",
   "version": "3.8.3"
  },
  "toc": {
   "base_numbering": 1,
   "nav_menu": {},
   "number_sections": false,
   "sideBar": true,
   "skip_h1_title": false,
   "title_cell": "Table of Contents",
   "title_sidebar": "Contents",
   "toc_cell": false,
   "toc_position": {},
   "toc_section_display": true,
   "toc_window_display": false
  }
 },
 "nbformat": 4,
 "nbformat_minor": 2
}
